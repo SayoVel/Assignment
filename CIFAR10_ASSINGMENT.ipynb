{
  "nbformat": 4,
  "nbformat_minor": 0,
  "metadata": {
    "colab": {
      "provenance": [],
      "authorship_tag": "ABX9TyN+BAlyoR1ZA64pInl5TFPF",
      "include_colab_link": true
    },
    "kernelspec": {
      "name": "python3",
      "display_name": "Python 3"
    },
    "language_info": {
      "name": "python"
    }
  },
  "cells": [
    {
      "cell_type": "markdown",
      "metadata": {
        "id": "view-in-github",
        "colab_type": "text"
      },
      "source": [
        "<a href=\"https://colab.research.google.com/github/SayoVel/Assignment/blob/main/CIFAR10_ASSINGMENT.ipynb\" target=\"_parent\"><img src=\"https://colab.research.google.com/assets/colab-badge.svg\" alt=\"Open In Colab\"/></a>"
      ]
    },
    {
      "cell_type": "code",
      "execution_count": 1,
      "metadata": {
        "id": "ZsROXPRox7Yz"
      },
      "outputs": [],
      "source": [
        "import torch\n",
        "from torch import nn\n",
        "from torch import optim\n",
        "\n",
        "import torchvision\n",
        "from torchvision import transforms\n",
        "from torchvision.datasets import CIFAR10\n",
        "from torch.utils.data import DataLoader\n",
        "\n",
        "from sklearn.metrics import classification_report, confusion_matrix\n",
        "import matplotlib.pyplot as plt\n",
        "\n"
      ]
    },
    {
      "cell_type": "markdown",
      "source": [
        "### Data Preparation"
      ],
      "metadata": {
        "id": "rXR_gZw_y4Wm"
      }
    },
    {
      "cell_type": "code",
      "source": [
        "# setup transformation\n",
        "transform = transforms.Compose([transforms.ToTensor(),\n",
        "                                transforms.Normalize((0.5,),(0.5,))])\n",
        "\n",
        "# import the dataset\n",
        "train_data = torchvision.datasets.CIFAR10(root = './data', train = True,\n",
        "                                        download = True, transform=transform)\n",
        "test_data = torchvision.datasets.CIFAR10(root = './data', train = False,\n",
        "                                        download = True, transform=transform)\n",
        "\n",
        "# set up the dataloader\n",
        "train_loader = DataLoader(dataset = train_data, batch_size = 64, shuffle=True)\n",
        "test_loader = DataLoader(dataset = test_data, batch_size = 64, shuffle=True)"
      ],
      "metadata": {
        "colab": {
          "base_uri": "https://localhost:8080/"
        },
        "id": "_SzPOAXdyipY",
        "outputId": "86c7308a-93a0-4b27-ba9c-ff2ea8f34251"
      },
      "execution_count": 4,
      "outputs": [
        {
          "output_type": "stream",
          "name": "stdout",
          "text": [
            "Downloading https://www.cs.toronto.edu/~kriz/cifar-10-python.tar.gz to ./data/cifar-10-python.tar.gz\n"
          ]
        },
        {
          "output_type": "stream",
          "name": "stderr",
          "text": [
            "100%|██████████| 170M/170M [00:05<00:00, 30.3MB/s]\n"
          ]
        },
        {
          "output_type": "stream",
          "name": "stdout",
          "text": [
            "Extracting ./data/cifar-10-python.tar.gz to ./data\n",
            "Files already downloaded and verified\n"
          ]
        }
      ]
    },
    {
      "cell_type": "code",
      "source": [
        "## inspect the images\n",
        "\n",
        "for image, label in train_loader:\n",
        "  image = image[10].detach().numpy()\n",
        "  label = label[10]\n",
        "  image = image.transpose(1, 2, 0)\n",
        "  plt.imshow(image)\n",
        "  plt.title(f'label: {label}')\n",
        "  break"
      ],
      "metadata": {
        "colab": {
          "base_uri": "https://localhost:8080/",
          "height": 489
        },
        "id": "DRZOCJTrzgcN",
        "outputId": "7182d60e-329c-4fd9-a8fb-42957bb5c94d"
      },
      "execution_count": 6,
      "outputs": [
        {
          "output_type": "stream",
          "name": "stderr",
          "text": [
            "WARNING:matplotlib.image:Clipping input data to the valid range for imshow with RGB data ([0..1] for floats or [0..255] for integers).\n"
          ]
        },
        {
          "output_type": "display_data",
          "data": {
            "text/plain": [
              "<Figure size 640x480 with 1 Axes>"
            ],
            "image/png": "[encoded data removed]"
          },
          "metadata": {}
        }
      ]
    },
    {
      "cell_type": "code",
      "source": [
        "# train the neural network\n",
        "\n",
        "class Image_Ann(nn.Module):\n",
        "\n",
        "  def __init__(self) -> None:\n",
        "    super().__init__()\n",
        "    self.input_layer = nn.Linear(32*32*3, 500) # input size 192\n",
        "    self.fc1 = nn.Linear(500, 256)\n",
        "    self.fc2 = nn.Linear(256, 128)\n",
        "    self.fc3 = nn.Linear(128, 64)\n",
        "    self.out = nn.Linear(64, 10)\n",
        "\n",
        "  def forward(self, x:torch.tensor):\n",
        "    # Correctly reshape the input tensor\n",
        "    x = x.view(-1, 32*32*3) # to include all 3 color channels\n",
        "    result = torch.relu(self.input_layer(x))\n",
        "    result = torch.relu(self.fc1(result))\n",
        "    result = torch.relu(self.fc2(result))\n",
        "    result = torch.relu(self.fc3(result))\n",
        "    result = self.out(result)\n",
        "\n",
        "    return result"
      ],
      "metadata": {
        "id": "wUMW0Rt9_7cX"
      },
      "execution_count": 12,
      "outputs": []
    },
    {
      "cell_type": "code",
      "source": [
        "# initialize the model, optimizer, criterion, learning rate, epoch\n",
        "\n",
        "model = Image_Ann()\n",
        "criterion = nn.CrossEntropyLoss()\n",
        "learning_rate = 1e-4\n",
        "epochs = 5\n",
        "optimizer = optim.SGD(params = model.parameters(), lr=learning_rate)"
      ],
      "metadata": {
        "id": "dX4WnTvq951E"
      },
      "execution_count": 13,
      "outputs": []
    },
    {
      "cell_type": "code",
      "source": [
        "# set up the training loop\n",
        "\n",
        "for epoch in range(epochs):\n",
        "  training_loss = 0.0\n",
        "  for i, (image, label) in enumerate(train_loader):\n",
        "    # wipe gradients\n",
        "    optimizer.zero_grad()\n",
        "\n",
        "    # forward pass\n",
        "    train_preds = model(image)\n",
        "    loss = criterion(train_preds, label)\n",
        "\n",
        "    # back propagate\n",
        "    loss.backward()\n",
        "    optimizer.step()\n",
        "\n",
        "    training_loss += loss.item()\n",
        "    if (i % 100) == 0:\n",
        "      print(f'Epoch: {epoch+1}/{epochs}...step: {i}/{len(train_loader)}...Loss: {loss.item()}')\n",
        "\n",
        "  print(f'Epoch: {epoch+1}/{epochs}.....Loss: {training_loss/len(train_loader)}')"
      ],
      "metadata": {
        "colab": {
          "base_uri": "https://localhost:8080/"
        },
        "id": "VgcNVop2_iHt",
        "outputId": "2d0069dd-dbbf-4d05-bdc5-8c02c16278dc"
      },
      "execution_count": 14,
      "outputs": [
        {
          "output_type": "stream",
          "name": "stdout",
          "text": [
            "Epoch: 1/5...step: 0/782...Loss: 2.3102145195007324\n",
            "Epoch: 1/5...step: 100/782...Loss: 2.2995920181274414\n",
            "Epoch: 1/5...step: 200/782...Loss: 2.3112809658050537\n",
            "Epoch: 1/5...step: 300/782...Loss: 2.319796562194824\n",
            "Epoch: 1/5...step: 400/782...Loss: 2.3046512603759766\n",
            "Epoch: 1/5...step: 500/782...Loss: 2.30014967918396\n",
            "Epoch: 1/5...step: 600/782...Loss: 2.3067872524261475\n",
            "Epoch: 1/5...step: 700/782...Loss: 2.2959706783294678\n",
            "Epoch: 1/5.....Loss: 2.304690098213723\n",
            "Epoch: 2/5...step: 0/782...Loss: 2.3390536308288574\n",
            "Epoch: 2/5...step: 100/782...Loss: 2.310804843902588\n",
            "Epoch: 2/5...step: 200/782...Loss: 2.293205499649048\n",
            "Epoch: 2/5...step: 300/782...Loss: 2.3218023777008057\n",
            "Epoch: 2/5...step: 400/782...Loss: 2.2980880737304688\n",
            "Epoch: 2/5...step: 500/782...Loss: 2.302363872528076\n",
            "Epoch: 2/5...step: 600/782...Loss: 2.301511287689209\n",
            "Epoch: 2/5...step: 700/782...Loss: 2.3064968585968018\n",
            "Epoch: 2/5.....Loss: 2.3045211762113644\n",
            "Epoch: 3/5...step: 0/782...Loss: 2.2966251373291016\n",
            "Epoch: 3/5...step: 100/782...Loss: 2.312309503555298\n",
            "Epoch: 3/5...step: 200/782...Loss: 2.3061234951019287\n",
            "Epoch: 3/5...step: 300/782...Loss: 2.315236806869507\n",
            "Epoch: 3/5...step: 400/782...Loss: 2.31054425239563\n",
            "Epoch: 3/5...step: 500/782...Loss: 2.297974109649658\n",
            "Epoch: 3/5...step: 600/782...Loss: 2.3098196983337402\n",
            "Epoch: 3/5...step: 700/782...Loss: 2.3100342750549316\n",
            "Epoch: 3/5.....Loss: 2.304371828618257\n",
            "Epoch: 4/5...step: 0/782...Loss: 2.3125462532043457\n",
            "Epoch: 4/5...step: 100/782...Loss: 2.2947897911071777\n",
            "Epoch: 4/5...step: 200/782...Loss: 2.3061509132385254\n",
            "Epoch: 4/5...step: 300/782...Loss: 2.321687698364258\n",
            "Epoch: 4/5...step: 400/782...Loss: 2.3034799098968506\n",
            "Epoch: 4/5...step: 500/782...Loss: 2.301281690597534\n",
            "Epoch: 4/5...step: 600/782...Loss: 2.2909774780273438\n",
            "Epoch: 4/5...step: 700/782...Loss: 2.3133676052093506\n",
            "Epoch: 4/5.....Loss: 2.304187600265074\n",
            "Epoch: 5/5...step: 0/782...Loss: 2.3073668479919434\n",
            "Epoch: 5/5...step: 100/782...Loss: 2.3067753314971924\n",
            "Epoch: 5/5...step: 200/782...Loss: 2.3137354850769043\n",
            "Epoch: 5/5...step: 300/782...Loss: 2.32586407661438\n",
            "Epoch: 5/5...step: 400/782...Loss: 2.296314001083374\n",
            "Epoch: 5/5...step: 500/782...Loss: 2.3093152046203613\n",
            "Epoch: 5/5...step: 600/782...Loss: 2.3117761611938477\n",
            "Epoch: 5/5...step: 700/782...Loss: 2.3049094676971436\n",
            "Epoch: 5/5.....Loss: 2.304076539281079\n"
          ]
        }
      ]
    },
    {
      "cell_type": "code",
      "source": [
        "# evaluate the model\n",
        "all_preds = []\n",
        "all_labels = []\n",
        "\n",
        "model.eval()\n",
        "with torch.no_grad():\n",
        "  for image, label in test_loader:\n",
        "    test_pred = model(image)\n",
        "    _, preds = torch.max(test_pred, 1)\n",
        "    all_labels.extend(label)\n",
        "    all_preds.extend(preds)"
      ],
      "metadata": {
        "id": "Cmq85IWRAbZN"
      },
      "execution_count": 15,
      "outputs": []
    },
    {
      "cell_type": "code",
      "source": [
        "import seaborn as sns\n",
        "\n",
        "\n",
        "sns.heatmap(data = confusion_matrix(all_labels, all_preds),\n",
        "            annot = True, cbar = False, fmt = 'd')"
      ],
      "metadata": {
        "colab": {
          "base_uri": "https://localhost:8080/",
          "height": 447
        },
        "id": "o0p32aDrEusu",
        "outputId": "28f982c0-8f02-4dd1-bc10-d048d9676cc4"
      },
      "execution_count": 16,
      "outputs": [
        {
          "output_type": "execute_result",
          "data": {
            "text/plain": [
              "<Axes: >"
            ]
          },
          "metadata": {},
          "execution_count": 16
        },
        {
          "output_type": "display_data",
          "data": {
            "text/plain": [
              "<Figure size 640x480 with 1 Axes>"
            ],
            "image/png": "[encoded data removed]"
          },
          "metadata": {}
        }
      ]
    },
    {
      "cell_type": "code",
      "source": [
        "print(classification_report(all_labels, all_preds))"
      ],
      "metadata": {
        "colab": {
          "base_uri": "https://localhost:8080/"
        },
        "id": "qwiZBBz2E0tY",
        "outputId": "ce211947-9bb1-47ff-8b4b-baf65d8563e1"
      },
      "execution_count": 17,
      "outputs": [
        {
          "output_type": "stream",
          "name": "stdout",
          "text": [
            "              precision    recall  f1-score   support\n",
            "\n",
            "           0       0.00      0.00      0.00      1000\n",
            "           1       0.00      0.00      0.00      1000\n",
            "           2       0.00      0.00      0.00      1000\n",
            "           3       0.10      0.84      0.18      1000\n",
            "           4       0.00      0.00      0.00      1000\n",
            "           5       0.00      0.00      0.00      1000\n",
            "           6       0.00      0.00      0.00      1000\n",
            "           7       0.12      0.19      0.15      1000\n",
            "           8       0.00      0.00      0.00      1000\n",
            "           9       0.00      0.00      0.00      1000\n",
            "\n",
            "    accuracy                           0.10     10000\n",
            "   macro avg       0.02      0.10      0.03     10000\n",
            "weighted avg       0.02      0.10      0.03     10000\n",
            "\n"
          ]
        },
        {
          "output_type": "stream",
          "name": "stderr",
          "text": [
            "/usr/local/lib/python3.10/dist-packages/sklearn/metrics/_classification.py:1531: UndefinedMetricWarning: Precision is ill-defined and being set to 0.0 in labels with no predicted samples. Use `zero_division` parameter to control this behavior.\n",
            "  _warn_prf(average, modifier, f\"{metric.capitalize()} is\", len(result))\n",
            "/usr/local/lib/python3.10/dist-packages/sklearn/metrics/_classification.py:1531: UndefinedMetricWarning: Precision is ill-defined and being set to 0.0 in labels with no predicted samples. Use `zero_division` parameter to control this behavior.\n",
            "  _warn_prf(average, modifier, f\"{metric.capitalize()} is\", len(result))\n",
            "/usr/local/lib/python3.10/dist-packages/sklearn/metrics/_classification.py:1531: UndefinedMetricWarning: Precision is ill-defined and being set to 0.0 in labels with no predicted samples. Use `zero_division` parameter to control this behavior.\n",
            "  _warn_prf(average, modifier, f\"{metric.capitalize()} is\", len(result))\n"
          ]
        }
      ]
    },
    {
      "cell_type": "code",
      "source": [
        "\n",
        "torch.max(test_pred, 1)\n"
      ],
      "metadata": {
        "colab": {
          "base_uri": "https://localhost:8080/"
        },
        "id": "foTHTsqNE8Li",
        "outputId": "c8177ca9-99b4-4aab-e3d5-b79bdaea133e"
      },
      "execution_count": 18,
      "outputs": [
        {
          "output_type": "execute_result",
          "data": {
            "text/plain": [
              "torch.return_types.max(\n",
              "values=tensor([0.1302, 0.1256, 0.1257, 0.1238, 0.1243, 0.1247, 0.1182, 0.1318, 0.1317,\n",
              "        0.1245, 0.1219, 0.1284, 0.1196, 0.1238, 0.1324, 0.1294]),\n",
              "indices=tensor([3, 3, 3, 3, 7, 3, 3, 7, 3, 7, 3, 3, 3, 3, 3, 3]))"
            ]
          },
          "metadata": {},
          "execution_count": 18
        }
      ]
    },
    {
      "cell_type": "code",
      "source": [
        "test_pred"
      ],
      "metadata": {
        "colab": {
          "base_uri": "https://localhost:8080/"
        },
        "id": "wtM0GDrNFBQP",
        "outputId": "c8c0c3a4-338f-44e1-a74a-d496e2422cdc"
      },
      "execution_count": 19,
      "outputs": [
        {
          "output_type": "execute_result",
          "data": {
            "text/plain": [
              "tensor([[ 0.0951,  0.0432, -0.0569,  0.1302, -0.0565, -0.0418, -0.0422,  0.1194,\n",
              "          0.0333,  0.0581],\n",
              "        [ 0.0892,  0.0431, -0.0558,  0.1256, -0.0543, -0.0355, -0.0408,  0.1190,\n",
              "          0.0220,  0.0574],\n",
              "        [ 0.0875,  0.0434, -0.0562,  0.1257, -0.0573, -0.0335, -0.0397,  0.1223,\n",
              "          0.0276,  0.0495],\n",
              "        [ 0.0864,  0.0492, -0.0576,  0.1238, -0.0492, -0.0398, -0.0283,  0.1155,\n",
              "          0.0285,  0.0542],\n",
              "        [ 0.0922,  0.0469, -0.0538,  0.1185, -0.0422, -0.0366, -0.0316,  0.1243,\n",
              "          0.0249,  0.0529],\n",
              "        [ 0.0864,  0.0429, -0.0579,  0.1247, -0.0499, -0.0438, -0.0323,  0.1143,\n",
              "          0.0327,  0.0561],\n",
              "        [ 0.0875,  0.0549, -0.0637,  0.1182, -0.0467, -0.0363, -0.0309,  0.1167,\n",
              "          0.0248,  0.0525],\n",
              "        [ 0.0980,  0.0505, -0.0544,  0.1258, -0.0551, -0.0334, -0.0390,  0.1318,\n",
              "          0.0168,  0.0502],\n",
              "        [ 0.0968,  0.0424, -0.0626,  0.1317, -0.0540, -0.0374, -0.0499,  0.1147,\n",
              "          0.0224,  0.0451],\n",
              "        [ 0.0919,  0.0498, -0.0560,  0.1191, -0.0496, -0.0310, -0.0305,  0.1245,\n",
              "          0.0342,  0.0519],\n",
              "        [ 0.0935,  0.0449, -0.0607,  0.1219, -0.0533, -0.0338, -0.0374,  0.1197,\n",
              "          0.0272,  0.0559],\n",
              "        [ 0.0906,  0.0491, -0.0571,  0.1284, -0.0569, -0.0373, -0.0347,  0.1194,\n",
              "          0.0297,  0.0515],\n",
              "        [ 0.0937,  0.0515, -0.0625,  0.1196, -0.0387, -0.0403, -0.0366,  0.1106,\n",
              "          0.0167,  0.0535],\n",
              "        [ 0.0900,  0.0500, -0.0563,  0.1238, -0.0447, -0.0403, -0.0337,  0.1151,\n",
              "          0.0293,  0.0550],\n",
              "        [ 0.1028,  0.0586, -0.0543,  0.1324, -0.0518, -0.0395, -0.0483,  0.1185,\n",
              "          0.0286,  0.0548],\n",
              "        [ 0.0920,  0.0491, -0.0614,  0.1294, -0.0525, -0.0350, -0.0379,  0.1247,\n",
              "          0.0256,  0.0498]])"
            ]
          },
          "metadata": {},
          "execution_count": 19
        }
      ]
    },
    {
      "cell_type": "code",
      "source": [],
      "metadata": {
        "id": "EMNhI-AhFKsc"
      },
      "execution_count": null,
      "outputs": []
    }
  ]
}