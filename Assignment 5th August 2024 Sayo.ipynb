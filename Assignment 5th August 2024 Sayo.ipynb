{
 "cells": [
  {
   "cell_type": "markdown",
   "id": "91e28a6c-0b42-4ed4-9335-dd29175501a4",
   "metadata": {},
   "source": [
    "## 1. Methods of copying a list"
   ]
  },
  {
   "cell_type": "code",
   "execution_count": 61,
   "id": "cf407178-c5cc-4189-b7cf-7e669487d74f",
   "metadata": {},
   "outputs": [
    {
     "name": "stdout",
     "output_type": "stream",
     "text": [
      "['kiwi', 'banana', 'watermelon']\n"
     ]
    }
   ],
   "source": [
    "#.copy\n",
    "thislist = [\"kiwi\", \"banana\", \"watermelon\"]\n",
    "newlist = list(thislist)\n",
    "print(newlist)\n"
   ]
  },
  {
   "cell_type": "code",
   "execution_count": 63,
   "id": "3f16a6c0-59cb-4658-9268-b2f8560ab0ec",
   "metadata": {},
   "outputs": [
    {
     "name": "stdout",
     "output_type": "stream",
     "text": [
      "['apple', 'banana', 'cherry']\n"
     ]
    }
   ],
   "source": [
    "# : slice operator\n",
    "\n",
    "fruit_list = [\"apple\", \"banana\", \"cherry\"]\n",
    "new_fruit_list = fruit_list[:]\n",
    "print(new_fruit_list)"
   ]
  },
  {
   "cell_type": "markdown",
   "id": "5452dc83-f979-4e55-bc8c-c75579afa093",
   "metadata": {},
   "source": [
    "## 2. Differentiate between the find method and count and index methods\n",
    "\n"
   ]
  },
  {
   "cell_type": "code",
   "execution_count": 89,
   "id": "89414d76-7958-4b67-934b-c055762d819a",
   "metadata": {},
   "outputs": [
    {
     "name": "stdout",
     "output_type": "stream",
     "text": [
      "7\n"
     ]
    }
   ],
   "source": [
    "'''\n",
    "find()\n",
    "The find() method finds the first occurrence of the specified value.\n",
    "\n",
    "The find() method returns -1 if the value is not found.\n",
    "\n",
    "The find() method is almost the same as the index() method,\n",
    "the only difference is that the index() method raises an exception if the value is not found.\n",
    "'''\n",
    "\n",
    "Introduction = \"Hello, my name is Jessica Pearson\"\n",
    "x = Introduction.find(\"m\")\n",
    "print(x)\n"
   ]
  },
  {
   "cell_type": "code",
   "execution_count": 97,
   "id": "c21ea276-16bd-4258-b71b-7fcb7c92f14b",
   "metadata": {},
   "outputs": [
    {
     "name": "stdout",
     "output_type": "stream",
     "text": [
      "13\n"
     ]
    }
   ],
   "source": [
    "#Where in the text is the first occurrence of the letter \"e\" when you only search between position 4 and 15?\n",
    "\n",
    "j = Introduction.find(\"e\", 4, 15)\n",
    "\n",
    "print(j)\n"
   ]
  },
  {
   "cell_type": "code",
   "execution_count": 101,
   "id": "9542b09f-de1e-40b4-a528-7845a73bd656",
   "metadata": {},
   "outputs": [
    {
     "name": "stdout",
     "output_type": "stream",
     "text": [
      "1\n"
     ]
    }
   ],
   "source": [
    "\"\"\"\n",
    "index()\n",
    "The index() method returns the position at the first occurrence of the specified value.\n",
    "syntax \n",
    "list.index(elment)\n",
    "\n",
    "\"\"\"\n",
    "\n",
    "fruits = [\"watermelon\", \"pear\", \"orange\", \"pineapple\", \"pear\"]\n",
    "w = fruits.index(\"pear\")\n",
    "print(w)\n",
    "\n"
   ]
  },
  {
   "cell_type": "code",
   "execution_count": 108,
   "id": "f674b6a8-de87-41d2-9d46-f7914cf338df",
   "metadata": {},
   "outputs": [
    {
     "name": "stdout",
     "output_type": "stream",
     "text": [
      "2\n"
     ]
    }
   ],
   "source": [
    "\"\"\"\n",
    "count()\n",
    "The count() method returns the number of elements with the specified value.\n",
    "\n",
    "syntax\n",
    "list.count(value)\n",
    "\n",
    "The value could be tuple, string, number or list\n",
    "\n",
    "\"\"\"\n",
    "\n",
    "fruits = [\"watermelon\", \"pear\", \"orange\", \"pineapple\", \"pear\"]\n",
    "\n",
    "v = fruits.count(\"pear\")\n",
    "\n",
    "print(v)\n",
    "\n",
    "\n",
    "\n"
   ]
  },
  {
   "cell_type": "markdown",
   "id": "014ab692-ef97-4f6d-8b13-78f73bd86214",
   "metadata": {},
   "source": [
    "## 3. Create a Personal “To-Do List”\n",
    "- Utilize various list functions.\n",
    "- Remove the entire list.\n"
   ]
  },
  {
   "cell_type": "code",
   "execution_count": 1,
   "id": "88643902-298b-45ac-aff2-47bb02a1e221",
   "metadata": {},
   "outputs": [],
   "source": [
    "#it is a new day! I need to make the most of today so I'll make a list of things todo today!\n",
    "todo_list = []"
   ]
  },
  {
   "cell_type": "code",
   "execution_count": 4,
   "id": "c6c965ed-cef2-4a66-af2a-0cfa307279e8",
   "metadata": {},
   "outputs": [
    {
     "name": "stdout",
     "output_type": "stream",
     "text": [
      "['Buy groceries', 'Clean the house', 'call G', 'prep meals']\n"
     ]
    }
   ],
   "source": [
    "#hmmm.... what are the things i need to do today?\n",
    "todo_list.append(\"Buy groceries\")\n",
    "todo_list.append(\"Clean the house\")\n",
    "todo_list.append(\"call G\")\n",
    "todo_list.append(\"prep meals\")\n",
    "\n",
    "print(todo_list)"
   ]
  },
  {
   "cell_type": "code",
   "execution_count": 10,
   "id": "eb272134-e961-4714-a0fb-798f3a5b0f92",
   "metadata": {},
   "outputs": [
    {
     "name": "stdout",
     "output_type": "stream",
     "text": [
      "['Buy groceries', 'Clean the house', 'call G']\n"
     ]
    }
   ],
   "source": [
    "# I don't really don't feel like doing so much today, i'll remove prep meals from my list\n",
    "\n",
    "todo_list.remove(\"prep meals\")\n",
    "\n",
    "print (todo_list)"
   ]
  },
  {
   "cell_type": "code",
   "execution_count": 16,
   "id": "b865a3fd-0c4b-4626-a34d-2fa09e45f380",
   "metadata": {},
   "outputs": [
    {
     "name": "stdout",
     "output_type": "stream",
     "text": [
      "['Buy groceries', 'Clean the house', 'sleep']\n"
     ]
    }
   ],
   "source": [
    "# since i had a rough night, i should include siester in my list as the 3rd thing that needs to be done instead of calling G\n",
    "\n",
    "todo_list[2] = \"sleep\"\n",
    "\n",
    "print(todo_list)"
   ]
  },
  {
   "cell_type": "code",
   "execution_count": 18,
   "id": "f9dd4599-9ecc-4f5e-b24a-8cd528ab82e8",
   "metadata": {},
   "outputs": [
    {
     "name": "stdout",
     "output_type": "stream",
     "text": [
      "3\n"
     ]
    }
   ],
   "source": [
    "#how many items are on my todo list today\n",
    "\n",
    "print (len(todo_list))"
   ]
  },
  {
   "cell_type": "code",
   "execution_count": 22,
   "id": "533db3d7-8a49-494f-8556-b2fd7697cc6d",
   "metadata": {},
   "outputs": [
    {
     "name": "stdout",
     "output_type": "stream",
     "text": [
      "['Buy groceries', 'Clean the house', 'sleep', 'call G', 'prep meals']\n"
     ]
    }
   ],
   "source": [
    "# just 3?, i can accomodate  more\n",
    "\n",
    "todo_list.append(\"call G\")\n",
    "todo_list.append(\"prep meals\")\n",
    "print(todo_list)"
   ]
  },
  {
   "cell_type": "code",
   "execution_count": 37,
   "id": "667bbb25-0b3d-4cc4-a46e-f556cad8eed4",
   "metadata": {},
   "outputs": [
    {
     "name": "stdout",
     "output_type": "stream",
     "text": [
      "yes, 'Clean the house' is included\n"
     ]
    }
   ],
   "source": [
    "#did i incude cleaning the house in my list?\n",
    "\n",
    "\n",
    "if \"Clean the house\" in todo_list:\n",
    "    print(\"yes, 'Clean the house' is included\")"
   ]
  },
  {
   "cell_type": "code",
   "execution_count": 39,
   "id": "0dca71e1-999f-4603-883d-c10bfce63dd2",
   "metadata": {},
   "outputs": [
    {
     "name": "stdout",
     "output_type": "stream",
     "text": [
      "['Buy groceries', 'Make Breakfast', 'Clean the house', 'sleep', 'call G', 'prep meals']\n"
     ]
    }
   ],
   "source": [
    "# I will like include \"make breakfast\" as the 2nd item on the list\n",
    "\n",
    "todo_list.insert(1, \"Make Breakfast\")\n",
    "print(todo_list)"
   ]
  },
  {
   "cell_type": "code",
   "execution_count": 47,
   "id": "8a7b11f7-2f67-4856-88ff-361a06d05f85",
   "metadata": {},
   "outputs": [
    {
     "name": "stdout",
     "output_type": "stream",
     "text": [
      "['Buy groceries', 'Make Breakfast', 'Clean the house', 'sleep', 'call G', 'prep meals']\n"
     ]
    }
   ],
   "source": [
    "#I will like to make  a copy of this list for hubby\n",
    "\n",
    "hubbys_list = todo_list.copy()\n",
    "print(hubbys_list)\n"
   ]
  },
  {
   "cell_type": "code",
   "execution_count": 51,
   "id": "a6cb37f3-41e4-41b8-b711-609bf152737f",
   "metadata": {},
   "outputs": [
    {
     "name": "stdout",
     "output_type": "stream",
     "text": [
      "Clean the house\n"
     ]
    }
   ],
   "source": [
    "# What is the 3rd item on my list?\n",
    "\n",
    "print(todo_list[2])"
   ]
  },
  {
   "cell_type": "code",
   "execution_count": 58,
   "id": "62b8bd06-dd14-4ab4-8619-ea5d5ca023dd",
   "metadata": {},
   "outputs": [
    {
     "name": "stdout",
     "output_type": "stream",
     "text": [
      "[]\n"
     ]
    }
   ],
   "source": [
    "# see, I can't come and kill myself, i no do again. clear the list\n",
    "\n",
    "todo_list.clear\n",
    "print(todo_list)"
   ]
  },
  {
   "cell_type": "markdown",
   "id": "7517eb74-182f-4079-9ddc-9d9f54b8428e",
   "metadata": {},
   "source": [
    "## 4. Research on how to update a Tuple, if possible."
   ]
  },
  {
   "cell_type": "code",
   "execution_count": 70,
   "id": "9dd3f876-9b95-4b7d-a140-e1e8ea0e7661",
   "metadata": {},
   "outputs": [
    {
     "name": "stdout",
     "output_type": "stream",
     "text": [
      "['amala', 'abula', 'iyan', 'egusi', 'ponmo']\n"
     ]
    }
   ],
   "source": [
    "#One of the ways a tupls can be updated is by converting it to a list, make the update on the list and then convert right back to a tuple\n",
    "\n",
    "# I will make an example using my favorite foods\n",
    "\n",
    "\n",
    "myFavorites_tuple = (\"amala\", \"iyan\", \"egusi\", \"ponmo\")\n",
    "\n",
    "#oops I omitted abula oo, how do i right this wrong?\n",
    "\n",
    "# Convert the tuple to a list\n",
    "myFavorites_list = list(myFavorites_tuple)\n",
    "\n",
    "# Now insert abula\n",
    "myFavorites_list.insert(1, \"abula\")\n",
    "print(myFavorites_list)\n",
    "\n"
   ]
  },
  {
   "cell_type": "code",
   "execution_count": 76,
   "id": "23b38f26-3cf4-413e-a224-668799f3a396",
   "metadata": {},
   "outputs": [
    {
     "name": "stdout",
     "output_type": "stream",
     "text": [
      "('amala', 'abula', 'iyan', 'egusi', 'ponmo')\n"
     ]
    }
   ],
   "source": [
    "# Convert back to a tuple\n",
    "myNewFavorites_tuple = tuple(myFavorites_list)\n",
    "\n",
    "print(myNewFavorites_tuple) "
   ]
  },
  {
   "cell_type": "code",
   "execution_count": 79,
   "id": "2c54c9ee-e6b2-4e71-9dad-e73d3c76958f",
   "metadata": {},
   "outputs": [
    {
     "name": "stdout",
     "output_type": "stream",
     "text": [
      "('amala', 'abula', 'iyan', 'egusi', 'ponmo')\n"
     ]
    }
   ],
   "source": [
    "# another method is to crat a new tupls by including the intended update and combining it with the previous tuple.\n",
    "\n",
    "# again, let's talk about my absolute favorite foods\n",
    "\n",
    "# Original tuple\n",
    "myFavorite_tuple = (\"amala\", \"iyan\", \"egusi\", \"ponmo\")\n",
    "\n",
    "# \"Updating\" the tuple by creating a new one with the desired changes\n",
    "\n",
    "myNewFavorite_tuple = (myFavorite_tuple[0], \"abula\", myFavorite_tuple[1], myFavorite_tuple[2], myFavorite_tuple[3])\n",
    "\n",
    "print(myNewFavorite_tuple)  "
   ]
  },
  {
   "cell_type": "code",
   "execution_count": null,
   "id": "bfee6b24-202b-407f-b620-40ef4b5bb62a",
   "metadata": {},
   "outputs": [],
   "source": []
  }
 ],
 "metadata": {
  "kernelspec": {
   "display_name": "Python 3 (ipykernel)",
   "language": "python",
   "name": "python3"
  },
  "language_info": {
   "codemirror_mode": {
    "name": "ipython",
    "version": 3
   },
   "file_extension": ".py",
   "mimetype": "text/x-python",
   "name": "python",
   "nbconvert_exporter": "python",
   "pygments_lexer": "ipython3",
   "version": "3.12.4"
  }
 },
 "nbformat": 4,
 "nbformat_minor": 5
}
